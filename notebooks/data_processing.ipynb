{
 "cells": [
  {
   "cell_type": "code",
   "execution_count": null,
   "id": "ec023578-17e0-4a96-8ddf-8371be10d31b",
   "metadata": {},
   "outputs": [],
   "source": [
    "import os\n",
    "import sys\n",
    "\n",
    "\n",
    "# this assumes that trinity-packet was installed in home directory\n",
    "os.chdir(os.path.expanduser('~/trinity-packet/SAFE-NID'))\n",
    "sys.path.append(os.path.expanduser('~/trinity-packet/code/'))"
   ]
  },
  {
   "cell_type": "code",
   "execution_count": null,
   "id": "c9c1f19f-c57e-476d-bae7-acb8bd9c04aa",
   "metadata": {},
   "outputs": [],
   "source": [
    "from netflow.context_pcap.dataset import ContextPCAPDataset"
   ]
  },
  {
   "cell_type": "code",
   "execution_count": null,
   "id": "88e03699-f3e0-4f33-bc06-81fc25e311a5",
   "metadata": {},
   "outputs": [],
   "source": [
    "# the configuration files include information on the location of the files and the type of dataset\n",
    "# N.B., the raw datasets and flow datasets are not needed if using the processed files from our \n",
    "# public data repository https://zenodo.org/records/15046995\n",
    "# the config filename assumes that trinity-packet is in your home directory - update this as necessary in the config file\n",
    "config_filename = 'configs/datasets/cic-ids-2017.data'"
   ]
  },
  {
   "cell_type": "code",
   "execution_count": null,
   "id": "57907abd-aee4-4564-b9de-f89e7f513723",
   "metadata": {},
   "outputs": [],
   "source": [
    "dataset = ContextPCAPDataset(config_filename)"
   ]
  },
  {
   "cell_type": "code",
   "execution_count": null,
   "id": "44911f3d-df93-4f95-8385-77c6ffe836dd",
   "metadata": {},
   "outputs": [],
   "source": [
    "# create one training and testing split from this dataset\n",
    "# for CIC-IDS-2017, this will generate ~90GB for each split\n",
    "# we seed our split function with the split_index\n",
    "dataset.create_train_test_splits(nsplits = 1)\n",
    "# we need to generate chunks of the unbalanced (benign) data that is not used in training\n",
    "# the benign data is too large otherwise to load in our system\n",
    "dataset.generate_unbalanced_chunks(nsplits = 1)"
   ]
  },
  {
   "cell_type": "code",
   "execution_count": null,
   "id": "6f60ca55-db04-4742-961a-4fecb505314b",
   "metadata": {},
   "outputs": [],
   "source": []
  }
 ],
 "metadata": {
  "kernelspec": {
   "display_name": "Python 3 (ipykernel)",
   "language": "python",
   "name": "python3"
  },
  "language_info": {
   "codemirror_mode": {
    "name": "ipython",
    "version": 3
   },
   "file_extension": ".py",
   "mimetype": "text/x-python",
   "name": "python",
   "nbconvert_exporter": "python",
   "pygments_lexer": "ipython3",
   "version": "3.12.0"
  }
 },
 "nbformat": 4,
 "nbformat_minor": 5
}
