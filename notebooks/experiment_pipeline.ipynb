{
 "cells": [
  {
   "cell_type": "code",
   "execution_count": null,
   "id": "f3988ffa-13dd-4154-96d1-4ab8d7a32afd",
   "metadata": {},
   "outputs": [],
   "source": [
    "import os\n",
    "import sys\n",
    "\n",
    "\n",
    "# this assumes that trinity-packet was installed in home directory\n",
    "os.chdir(os.path.expanduser('~/trinity-packet/SAFE-NID'))\n",
    "sys.path.append(os.path.expanduser('~/trinity-packet/code/'))"
   ]
  },
  {
   "cell_type": "code",
   "execution_count": null,
   "id": "3eaf4b85-c196-48ea-934a-08ce7d634e73",
   "metadata": {},
   "outputs": [],
   "source": [
    "from netflow.context_pcap.experiment import ContextPCAPExperiment"
   ]
  },
  {
   "cell_type": "code",
   "execution_count": null,
   "id": "b410e1fd-98db-43f5-a2ca-0f2f362926b9",
   "metadata": {},
   "outputs": [],
   "source": [
    "# the configuration files include information on the ID and OOD samples \n",
    "# as well as the type of model used and other various parameters\n",
    "# check the README for more information\n",
    "config_filename = 'configs/experiments/OOD-Infiltration-model-ContextFNNBatchNormDropout-header_context.exp'\n",
    "# what split to run the experiment on (generated from the train/test splits in data_processing.ipynb)\n",
    "split_index = 0\n",
    "# what gpu to run the experiment on\n",
    "gpu = 1"
   ]
  },
  {
   "cell_type": "code",
   "execution_count": null,
   "id": "3e6e2ad3-b942-4cd2-8a9f-693881b86f8c",
   "metadata": {},
   "outputs": [],
   "source": [
    "experiment = ContextPCAPExperiment(config_filename, split_index = split_index, gpu = gpu)"
   ]
  },
  {
   "cell_type": "code",
   "execution_count": null,
   "id": "63026c6e-8668-46c8-91cc-a80b0fe200fe",
   "metadata": {},
   "outputs": [],
   "source": [
    "# the model is not loaded or compiled by default\n",
    "# need to compile the model before training, inference, or feature extraction can take place\n",
    "experiment.compile_model()"
   ]
  },
  {
   "cell_type": "code",
   "execution_count": null,
   "id": "84973d1f-f844-4508-a1d2-c2c63d0876c6",
   "metadata": {},
   "outputs": [],
   "source": [
    "# train the model\n",
    "experiment.run_training()"
   ]
  },
  {
   "cell_type": "code",
   "execution_count": null,
   "id": "40f4a015-f409-4eb4-8950-56c8bcca8e3a",
   "metadata": {},
   "outputs": [],
   "source": [
    "# infer the model on both ID and OOD samples\n",
    "# default is to run inference on the unbalanced data (heavily benign imbalanced)\n",
    "experiment.run_inference()"
   ]
  },
  {
   "cell_type": "code",
   "execution_count": null,
   "id": "d8ee0c1a-2ed2-4c17-9315-b208db24d3ff",
   "metadata": {},
   "outputs": [],
   "source": [
    "# extract the layers for this particular model for use in the model safeguard\n",
    "# for each model, there is a instance variable extractable_layers\n",
    "# this corresponds to the layers that we will use for the safeguard\n",
    "layers = experiment.model.model.extractable_layers\n",
    "for layer in layers:\n",
    "    experiment.run_feature_extraction(layer)"
   ]
  },
  {
   "cell_type": "code",
   "execution_count": null,
   "id": "5f0a47b9-e4b3-4a62-949b-16e0ed64b720",
   "metadata": {},
   "outputs": [],
   "source": [
    "# use Gaussian kernel density model safeguard\n",
    "for layer in experiment.model.model.extractable_layers:\n",
    "    experiment.compute_robust_covariance_matrix(layer)\n",
    "    experiment.compute_mahalanobis_distance(layer, balanced = False)"
   ]
  },
  {
   "cell_type": "code",
   "execution_count": null,
   "id": "eb85b2d8-24a3-4bd9-b2a7-4a50b708edc8",
   "metadata": {},
   "outputs": [],
   "source": [
    "# use normalizing flows model safe guard\n",
    "for layer in experiment.model.model.extractable_layers:\n",
    "    experiment.train_normalizing_flows(layer)\n",
    "    experiment.calculate_normalizing_flows(layer, balanced = False)"
   ]
  },
  {
   "cell_type": "code",
   "execution_count": null,
   "id": "62dce065-5944-4389-8110-08a6d91e022d",
   "metadata": {},
   "outputs": [],
   "source": []
  }
 ],
 "metadata": {
  "kernelspec": {
   "display_name": "Python 3 (ipykernel)",
   "language": "python",
   "name": "python3"
  },
  "language_info": {
   "codemirror_mode": {
    "name": "ipython",
    "version": 3
   },
   "file_extension": ".py",
   "mimetype": "text/x-python",
   "name": "python",
   "nbconvert_exporter": "python",
   "pygments_lexer": "ipython3",
   "version": "3.12.2"
  }
 },
 "nbformat": 4,
 "nbformat_minor": 5
}
